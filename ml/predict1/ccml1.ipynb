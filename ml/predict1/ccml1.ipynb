{
  "nbformat": 4,
  "nbformat_minor": 0,
  "metadata": {
    "colab": {
      "name": "ccml1.ipynb",
      "provenance": [],
      "collapsed_sections": []
    },
    "kernelspec": {
      "name": "python3",
      "display_name": "Python 3"
    }
  },
  "cells": [
    {
      "cell_type": "code",
      "metadata": {
        "id": "osQUJDAyN-Pp",
        "colab_type": "code",
        "colab": {}
      },
      "source": [
        "# Importing Modules\n",
        "import sklearn\n",
        "import tensorflow\n",
        "import matplotlib.pyplot as pd\n",
        "import numpy as np\n",
        "import pandas as pd\n",
        "from sklearn import svm\n",
        "from sklearn import datasets\n",
        "from joblib import Memory\n",
        "from sklearn.datasets import load_svmlight_file"
      ],
      "execution_count": 0,
      "outputs": []
    },
    {
      "cell_type": "code",
      "metadata": {
        "id": "B-CCaGKzOjY-",
        "colab_type": "code",
        "colab": {}
      },
      "source": [
        "mem = Memory(\"./mycache\")"
      ],
      "execution_count": 0,
      "outputs": []
    },
    {
      "cell_type": "code",
      "metadata": {
        "id": "6VXO2_ZSPuu9",
        "colab_type": "code",
        "colab": {}
      },
      "source": [
        "@mem.cache\n",
        "def get_data():\n",
        "    data = load_svmlight_file(\"Day0.svm\")\n",
        "    return data[0], data[1]"
      ],
      "execution_count": 0,
      "outputs": []
    },
    {
      "cell_type": "code",
      "metadata": {
        "id": "cZkNbb1-QHkS",
        "colab_type": "code",
        "colab": {}
      },
      "source": [
        "X, y = get_data()"
      ],
      "execution_count": 0,
      "outputs": []
    }
  ]
}